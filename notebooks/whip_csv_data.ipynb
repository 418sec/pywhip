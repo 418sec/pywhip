{
 "cells": [
  {
   "cell_type": "markdown",
   "metadata": {},
   "source": [
    "# Introduction"
   ]
  },
  {
   "cell_type": "markdown",
   "metadata": {},
   "source": [
    "[pywhip](https://inbo.github.io/pywhip/) provides the ability to **validate a dataset** and receive a **report to identify potential issues** using [whip specifications](https://github.com/inbo/whip), a human and machine-readable syntax to express specifications for data.\n",
    "\n",
    "In this notebook, we introduce the pywhip functionalities. As an introduction, we present a dummy example of the workflow to apply pywhip. Next, the usage in the context of a real-world example from the [TrIAS project](https://github.com/trias-project/) is shown. Finally, some envisioned ideas about pywhip applications are shortly discussed.\n",
    "\n",
    "If you want to run the code in the code blocks (called \"cells\"), select the cell and do `Shift + Enter` (or use `Cell > Run Cells` from the menu at the top)."
   ]
  },
  {
   "cell_type": "code",
   "execution_count": null,
   "metadata": {},
   "outputs": [],
   "source": [
    "import yaml\n",
    "from pywhip import whip_csv"
   ]
  },
  {
   "cell_type": "markdown",
   "metadata": {},
   "source": [
    "## pywhip workflow with dummy data"
   ]
  },
  {
   "cell_type": "markdown",
   "metadata": {},
   "source": [
    "Assume we received the following dataset from a research project that took place in Belgium and The Netherlands between 2016 and 2018:"
   ]
  },
  {
   "cell_type": "code",
   "execution_count": null,
   "metadata": {},
   "outputs": [],
   "source": [
    "!head ../docs/_static/observations_data.csv"
   ]
  },
  {
   "cell_type": "markdown",
   "metadata": {},
   "source": [
    "Within the scope of the project, we do know the following about the data:\n",
    "\n",
    "- The project was happening in Belgium (BE) and The Netherlands (NL)\n",
    "- The project was running from 2016 until 2018, so date values should be in this range\n",
    "- Individual counts can not be higher than 100 and should be at least 1\n",
    "- Empty values are not allowed"
   ]
  },
  {
   "cell_type": "markdown",
   "metadata": {},
   "source": [
    "These specifications can be translated to [whip specifications](https://github.com/inbo/whip):"
   ]
  },
  {
   "cell_type": "code",
   "execution_count": null,
   "metadata": {},
   "outputs": [],
   "source": [
    "project_specs = \"\"\"\n",
    "    country:\n",
    "       allowed: [BE, NL]\n",
    "    eventDate:\n",
    "        dateformat: '%Y-%m-%d'\n",
    "        mindate: 2016-01-01\n",
    "        maxdate: 2018-12-31\n",
    "    individualCount:\n",
    "        numberformat: x  # needs to be an integer value\n",
    "        min: 1\n",
    "        max: 100\n",
    "\"\"\"\n",
    "specifications = yaml.load(project_specs)"
   ]
  },
  {
   "cell_type": "markdown",
   "metadata": {},
   "source": [
    "**pywhip** provides the ability to **test** these specifications:"
   ]
  },
  {
   "cell_type": "code",
   "execution_count": null,
   "metadata": {},
   "outputs": [],
   "source": [
    "import yaml\n",
    "observations_whip = whip_csv(\"../docs/_static/observations_data.csv\", specifications, delimiter=',')"
   ]
  },
  {
   "cell_type": "markdown",
   "metadata": {},
   "source": [
    "and **report** the issues to the user:"
   ]
  },
  {
   "cell_type": "code",
   "execution_count": null,
   "metadata": {},
   "outputs": [],
   "source": [
    "html_report = observations_whip.get_report('html')"
   ]
  },
  {
   "cell_type": "markdown",
   "metadata": {},
   "source": [
    "Using the Jupyter Notebook build-in functionalities, we can show the HTML-report here inline, but this page could be served elsewhere as well:"
   ]
  },
  {
   "cell_type": "code",
   "execution_count": null,
   "metadata": {},
   "outputs": [],
   "source": [
    "from IPython.display import HTML, display_html\n",
    "display_html(HTML(html_report), \n",
    "             metadata=dict(isolated=True))"
   ]
  },
  {
   "cell_type": "markdown",
   "metadata": {},
   "source": [
    "The report can also be served in the json format, allowing integration with other websites and services:"
   ]
  },
  {
   "cell_type": "code",
   "execution_count": null,
   "metadata": {},
   "outputs": [],
   "source": [
    "observations_whip.get_report('json')"
   ]
  },
  {
   "cell_type": "markdown",
   "metadata": {},
   "source": [
    "## Real-world case"
   ]
  },
  {
   "cell_type": "markdown",
   "metadata": {},
   "source": [
    "The [Tracking Invasive Alien Species (TrIAS)](http://trias-project.be) project aims to build an open data-driven framework to support policy on invasive species. One of its aims is to standardize and publish occurrence and checklist data so these can be harvested by [GBIF](http://www.gbif.org/).\n",
    "\n",
    "The [GBIF data validator](https://www.gbif.org/tools/data-validator) allows to validate TrIAS data for and within the context of GBIF. However, those tests are predefined. Using whip + pywhip, the publisher can **define, document and test their own rules** (whether these are generic or specific), complementing what the GBIF data validator offers."
   ]
  },
  {
   "cell_type": "markdown",
   "metadata": {},
   "source": [
    "As an example, the [alien-macroinvertebrates repository](https://github.com/trias-project/alien-macroinvertebrates) contains the functionality to standardize the data of Boets et al. (2016) to both a Darwin Core checklist and Darwin Core occurrence dataset. For each of the data sets, whip specifications where defined and added to the repository, see [this link](https://github.com/trias-project/alien-macroinvertebrates/tree/master/specification).\n",
    "\n",
    "We can use these specifications to validate the status of each of the datasets. To illustrate this, we'll use the (small) `taxon.csv` dataset:"
   ]
  },
  {
   "cell_type": "markdown",
   "metadata": {},
   "source": [
    "Reading the specifications from the URL:"
   ]
  },
  {
   "cell_type": "code",
   "execution_count": null,
   "metadata": {},
   "outputs": [],
   "source": [
    "import requests\n",
    "alien_macroinvertebrates_yaml = 'https://raw.githubusercontent.com/trias-project/alien-macroinvertebrates/ccd9025adfed3ee6a710da73213d439f5ac89506/specification/dwc_taxon.yaml'\n",
    "response = requests.get(alien_macroinvertebrates_yaml)\n",
    "alien_macroinvertebrates_specifications = yaml.load(response.text)"
   ]
  },
  {
   "cell_type": "markdown",
   "metadata": {},
   "source": [
    "A user working on the data, can check the data against the specifications:"
   ]
  },
  {
   "cell_type": "code",
   "execution_count": null,
   "metadata": {},
   "outputs": [],
   "source": [
    "checklist_whip = whip_csv(\"alien-taxon.csv\", \n",
    "                          alien_macroinvertebrates_specifications, delimiter=',')"
   ]
  },
  {
   "cell_type": "markdown",
   "metadata": {},
   "source": [
    "And check the report:"
   ]
  },
  {
   "cell_type": "code",
   "execution_count": null,
   "metadata": {},
   "outputs": [],
   "source": [
    "display_html(HTML(checklist_whip.get_report('html')), \n",
    "             metadata=dict(isolated=True))"
   ]
  },
  {
   "cell_type": "markdown",
   "metadata": {},
   "source": [
    "The report provides a quick overview of the issues for which action needs to be taken, similar to the current GBIF data validator reporting functionalities."
   ]
  },
  {
   "cell_type": "markdown",
   "metadata": {},
   "source": [
    "## pywhip envisioned applications"
   ]
  },
  {
   "cell_type": "markdown",
   "metadata": {},
   "source": [
    "In essence, pywhip is a data validation tool, but one where you can define your own rules (in [whip](https://github.com/inbo/whip)). We envision the usefulness of whip + pywhip in a number of applications:\n",
    "\n",
    "- Data publishers can use whip to **document decisions** made about data representation/standardization (e.g. in discussions with the data owner). These specifications could even be included in the published dataset (e.g. in a Darwin Core Archive). Use pywhip they can test these specifications in an iternative process to improve the standardization and quality of the published dataset.\n",
    "- Data users can use whip to express their custom or **community-defined** data quality needs. Using pywhip, data meets those requirements can be _filtered_ and extracted.\n",
    "- Pywhip functionalities could be **integrated** into the [GBIF data validator](https://www.gbif.org/tools/data-validator), so that in addition to the predefined rules, user-defined rules could tested and reported upon as well.\n",
    "- The TDWG [Biodiversity Data Quality (BDQ) Interest Group](https://github.com/tdwg/bdq) is defining a fixed set of _Tests and Assertions_ to assess data quality and provide a common ground for data aggregators to report these issues. Whip could be considered to define existing or additional conformance tests."
   ]
  }
 ],
 "metadata": {
  "kernelspec": {
   "display_name": "Python 3",
   "language": "python",
   "name": "python3"
  },
  "language_info": {
   "codemirror_mode": {
    "name": "ipython",
    "version": 3
   },
   "file_extension": ".py",
   "mimetype": "text/x-python",
   "name": "python",
   "nbconvert_exporter": "python",
   "pygments_lexer": "ipython3",
   "version": "3.6.5"
  }
 },
 "nbformat": 4,
 "nbformat_minor": 2
}
