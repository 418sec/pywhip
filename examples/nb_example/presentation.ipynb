{
 "cells": [
  {
   "cell_type": "code",
   "execution_count": 1,
   "metadata": {
    "collapsed": false,
    "run_control": {
     "frozen": false,
     "read_only": false
    },
    "slideshow": {
     "slide_type": "skip"
    }
   },
   "outputs": [],
   "source": [
    "import csv\n",
    "import numpy as np\n",
    "import pandas as pd\n",
    "pd.set_option('display.max_colwidth', 80)"
   ]
  },
  {
   "cell_type": "code",
   "execution_count": 2,
   "metadata": {
    "collapsed": false,
    "run_control": {
     "frozen": false,
     "read_only": false
    },
    "slideshow": {
     "slide_type": "skip"
    }
   },
   "outputs": [],
   "source": [
    "from dwcavalidator.collect import DwcaScreening"
   ]
  },
  {
   "cell_type": "markdown",
   "metadata": {
    "slideshow": {
     "slide_type": "slide"
    }
   },
   "source": [
    "# Dataset to screen:"
   ]
  },
  {
   "cell_type": "code",
   "execution_count": 3,
   "metadata": {
    "collapsed": false,
    "run_control": {
     "frozen": false,
     "read_only": false
    },
    "slideshow": {
     "slide_type": "skip"
    }
   },
   "outputs": [],
   "source": [
    "dataset_draft = pd.read_csv('./example_draft_presentation.tsv', sep='\\t', dtype=object)\n",
    "dataset_draft.index = np.arange(1, 6, 1)"
   ]
  },
  {
   "cell_type": "code",
   "execution_count": 4,
   "metadata": {
    "collapsed": false,
    "run_control": {
     "frozen": false,
     "read_only": false
    },
    "slideshow": {
     "slide_type": "fragment"
    }
   },
   "outputs": [
    {
     "name": "stdout",
     "output_type": "stream",
     "text": [
      "id\ttype\tlanguage\tlicense\trightsHolder\taccessRights\tdatasetID\tinstitutionCode\tdatasetName\townerInstitutionCode\tbasisOfRecord\tinformationWithheld\tdataGeneralizations\toccurrenceID\trecordedBy\tindividualCount\tsex\tlifeStage\tassociatedReferences\tsamplingProtocol\tsamplingEffort\teventDate\tverbatimEventDate\tcontinent\tcountryCode\tstateProvince\tmunicipality\tverbatimLocality\tverbatimCoordinates\tverbatimCoordinateSystem\tverbatimSRS\tdecimalLatitude\tdecimalLongitude\tgeodeticDatum\tcoordinateUncertaintyInMeters\tgeoreferenceRemarks\tidentificationVerificationStatus\tscientificName\tkingdom\tphylum\tclass\torder\ttaxonRank\tscientificNameAuthorship\tvernacularName\tnomenclaturalCode\r\n",
      "INBO:VLINDERS:00000637\tEvent\ten\thttp://creativecommons.org/publicdomain/zero/1.0/\tINBO\thttp://www.inbo.be/en/norms-for-data-use\thttp://doi.org/10.15468/njgbmh\tINBO\tVlinderdatabank - Butterflies in Flanders and the Brussels Capital Region, Belgium\tINBO\tHumanObservation\tsee metadata\tcoordinates are generalized to centroid a 5x5km UTM grid\tINBO:VLINDERS:00000637\tobserverID:JNHRLP | observerID:JNHRLCTGH\t20\t\tadult\t\tcasual observation\t\t1984-07-24/2000-01-03\t1984-07-24\tEurope\tBE\tWest Flanders\tZedelgem\t\t31UES06B\tUTM 5km\tWGS84\t51.15889\t3.10725\tWGS84\t3769\tcoordinates are centroid of used grid square\tverified\tAglais urticae\tAnimalia\tArthopoda\tInsecta\tLepidoptera\tspecies\t(Linnaeus, 1758)\tKleine vos\tICZN\r\n"
     ]
    }
   ],
   "source": [
    "!head -n 2 example_draft_presentation.tsv"
   ]
  },
  {
   "cell_type": "code",
   "execution_count": 16,
   "metadata": {
    "collapsed": false,
    "run_control": {
     "frozen": false,
     "read_only": false
    },
    "slideshow": {
     "slide_type": "slide"
    }
   },
   "outputs": [
    {
     "data": {
      "text/html": [
       "<div>\n",
       "<table border=\"1\" class=\"dataframe\">\n",
       "  <thead>\n",
       "    <tr style=\"text-align: right;\">\n",
       "      <th></th>\n",
       "      <th>occurrenceID</th>\n",
       "      <th>basisOfRecord</th>\n",
       "      <th>eventDate</th>\n",
       "      <th>decimalLatitude</th>\n",
       "      <th>decimalLongitude</th>\n",
       "      <th>recordedBy</th>\n",
       "    </tr>\n",
       "  </thead>\n",
       "  <tbody>\n",
       "    <tr>\n",
       "      <th>1</th>\n",
       "      <td>INBO:VLINDERS:00000637</td>\n",
       "      <td>HumanObservation</td>\n",
       "      <td>1984-07-24/2000-01-03</td>\n",
       "      <td>51.15889</td>\n",
       "      <td>3.10725</td>\n",
       "      <td>observerID:JNHRLP | observerID:JNHRLCTGH</td>\n",
       "    </tr>\n",
       "    <tr>\n",
       "      <th>2</th>\n",
       "      <td>INBO:VLINDERS:00000651</td>\n",
       "      <td>HumanObservation</td>\n",
       "      <td>07241981</td>\n",
       "      <td>51.02361</td>\n",
       "      <td>3.32081</td>\n",
       "      <td>observerID:JNHRLP ; observerID:JNHRLC</td>\n",
       "    </tr>\n",
       "    <tr>\n",
       "      <th>3</th>\n",
       "      <td>INBO:VLINDERS:00000717</td>\n",
       "      <td>Human Observation</td>\n",
       "      <td>1985-04-19</td>\n",
       "      <td>50.88093</td>\n",
       "      <td>4.38597</td>\n",
       "      <td>observerID:JNHRLP | observerID:JNHRLC</td>\n",
       "    </tr>\n",
       "    <tr>\n",
       "      <th>4</th>\n",
       "      <td>INBO:VLINDERS:00000786</td>\n",
       "      <td>HumanObservation</td>\n",
       "      <td>1985-09-12</td>\n",
       "      <td>58.11234</td>\n",
       "      <td>58.0</td>\n",
       "      <td>observerID:DRCKPL</td>\n",
       "    </tr>\n",
       "    <tr>\n",
       "      <th>5</th>\n",
       "      <td>NaN</td>\n",
       "      <td>HumanObservation</td>\n",
       "      <td>1987-04-15</td>\n",
       "      <td>51.05594</td>\n",
       "      <td>4.74792</td>\n",
       "      <td>observerID:925</td>\n",
       "    </tr>\n",
       "  </tbody>\n",
       "</table>\n",
       "</div>"
      ],
      "text/plain": [
       "             occurrenceID      basisOfRecord              eventDate  \\\n",
       "1  INBO:VLINDERS:00000637   HumanObservation  1984-07-24/2000-01-03   \n",
       "2  INBO:VLINDERS:00000651   HumanObservation               07241981   \n",
       "3  INBO:VLINDERS:00000717  Human Observation             1985-04-19   \n",
       "4  INBO:VLINDERS:00000786   HumanObservation             1985-09-12   \n",
       "5                     NaN   HumanObservation             1987-04-15   \n",
       "\n",
       "  decimalLatitude decimalLongitude                                recordedBy  \n",
       "1        51.15889          3.10725  observerID:JNHRLP | observerID:JNHRLCTGH  \n",
       "2        51.02361          3.32081     observerID:JNHRLP ; observerID:JNHRLC  \n",
       "3        50.88093          4.38597     observerID:JNHRLP | observerID:JNHRLC  \n",
       "4        58.11234             58.0                         observerID:DRCKPL  \n",
       "5        51.05594          4.74792                            observerID:925  "
      ]
     },
     "execution_count": 16,
     "metadata": {},
     "output_type": "execute_result"
    }
   ],
   "source": [
    "dataset_draft[[\"occurrenceID\", \"basisOfRecord\", \"eventDate\", \n",
    "               \"decimalLatitude\", \"decimalLongitude\", \"recordedBy\"]]"
   ]
  },
  {
   "cell_type": "code",
   "execution_count": 6,
   "metadata": {
    "collapsed": false,
    "run_control": {
     "frozen": false,
     "read_only": false
    },
    "slideshow": {
     "slide_type": "slide"
    }
   },
   "outputs": [
    {
     "name": "stdout",
     "output_type": "stream",
     "text": [
      "occurrenceID:\r\n",
      " empty: False # Every record should have an occurrenceID.\r\n",
      "\r\n",
      "basisOfRecord:\r\n",
      " allowed: [HumanObservation, PreservedSpecimen, Occurrence]\r\n",
      "\r\n",
      "eventDate:\r\n",
      " dateformat: ['%Y-%m-%d', '%Y-%m', '%Y'] # The ISO8601 format, but no ranges\r\n",
      " mindate: 1830-01-01\r\n",
      " maxdate: 2014-12-31\r\n",
      "\r\n",
      "decimalLatitude:\r\n",
      " type: float\r\n",
      " numberformat: '.5'\r\n",
      " # Coordinates are within Flanders, Belgium\r\n",
      " min: 50.68\r\n",
      " max: 51.51\r\n",
      "\r\n",
      "decimalLongitude:\r\n",
      " type: float\r\n",
      " numberformat: '.5'\r\n",
      " # Coordinates are within Flanders, Belgium\r\n",
      " min: 2.54\r\n",
      " max: 5.92\r\n",
      "\r\n",
      "recordedBy:\r\n",
      " delimitedvalues:\r\n",
      "   delimiter: \" | \" # Observers are delimited with space pipe space\r\n",
      "   regex: 'observerID:.+'\r\n",
      "   maxlength: 17 # ID contains 6 characters (11 for observerID: + 6 for ID itself)\r\n"
     ]
    }
   ],
   "source": [
    "!head -n 30 dwc-occurrence.yaml"
   ]
  },
  {
   "cell_type": "code",
   "execution_count": 7,
   "metadata": {
    "code_folding": [],
    "collapsed": false,
    "run_control": {
     "frozen": false,
     "read_only": false
    },
    "slideshow": {
     "slide_type": "slide"
    }
   },
   "outputs": [
    {
     "name": "stdout",
     "output_type": "stream",
     "text": [
      "Dataset does not comply the specifications, check errors for a more detailed information.\n"
     ]
    }
   ],
   "source": [
    "validate_my_dataset = DwcaScreening('./dwc-occurrence.yaml', \n",
    "                                    lowercase_terms=False, \n",
    "                                    unknown_fields=True)\n",
    "validate_my_dataset.screen_dwc('./example_draft_presentation.tsv', \n",
    "                               delimiter='\\t', maxentries=50)"
   ]
  },
  {
   "cell_type": "code",
   "execution_count": 14,
   "metadata": {
    "collapsed": false,
    "run_control": {
     "frozen": false,
     "read_only": false
    },
    "slideshow": {
     "slide_type": "slide"
    }
   },
   "outputs": [
    {
     "data": {
      "text/html": [
       "<div>\n",
       "<table border=\"1\" class=\"dataframe\">\n",
       "  <thead>\n",
       "    <tr style=\"text-align: right;\">\n",
       "      <th></th>\n",
       "      <th>occurrenceID</th>\n",
       "      <th>basisOfRecord</th>\n",
       "      <th>eventDate</th>\n",
       "      <th>decimalLatitude</th>\n",
       "      <th>decimalLongitude</th>\n",
       "      <th>recordedBy</th>\n",
       "    </tr>\n",
       "  </thead>\n",
       "  <tbody>\n",
       "    <tr>\n",
       "      <th>1</th>\n",
       "      <td></td>\n",
       "      <td></td>\n",
       "      <td>String format not compliant with %Y-%m-%d, %Y-%m, %Y</td>\n",
       "      <td></td>\n",
       "      <td></td>\n",
       "      <td>{1: ['max length is 17']}</td>\n",
       "    </tr>\n",
       "    <tr>\n",
       "      <th>2</th>\n",
       "      <td></td>\n",
       "      <td></td>\n",
       "      <td>String format not compliant with %Y-%m-%d, %Y-%m, %Y</td>\n",
       "      <td></td>\n",
       "      <td></td>\n",
       "      <td>{0: ['max length is 17']}</td>\n",
       "    </tr>\n",
       "    <tr>\n",
       "      <th>3</th>\n",
       "      <td></td>\n",
       "      <td>unallowed value Human Observation</td>\n",
       "      <td></td>\n",
       "      <td></td>\n",
       "      <td></td>\n",
       "      <td></td>\n",
       "    </tr>\n",
       "    <tr>\n",
       "      <th>4</th>\n",
       "      <td></td>\n",
       "      <td></td>\n",
       "      <td></td>\n",
       "      <td>max value is 51.51</td>\n",
       "      <td>numberformat of value 58.0 not in agreement with .5</td>\n",
       "      <td></td>\n",
       "    </tr>\n",
       "    <tr>\n",
       "      <th>5</th>\n",
       "      <td>empty values not allowed</td>\n",
       "      <td></td>\n",
       "      <td></td>\n",
       "      <td></td>\n",
       "      <td></td>\n",
       "      <td></td>\n",
       "    </tr>\n",
       "  </tbody>\n",
       "</table>\n",
       "</div>"
      ],
      "text/plain": [
       "               occurrenceID                      basisOfRecord  \\\n",
       "1                                                                \n",
       "2                                                                \n",
       "3                            unallowed value Human Observation   \n",
       "4                                                                \n",
       "5  empty values not allowed                                      \n",
       "\n",
       "                                              eventDate     decimalLatitude  \\\n",
       "1  String format not compliant with %Y-%m-%d, %Y-%m, %Y                       \n",
       "2  String format not compliant with %Y-%m-%d, %Y-%m, %Y                       \n",
       "3                                                                             \n",
       "4                                                        max value is 51.51   \n",
       "5                                                                             \n",
       "\n",
       "                                      decimalLongitude  \\\n",
       "1                                                        \n",
       "2                                                        \n",
       "3                                                        \n",
       "4  numberformat of value 58.0 not in agreement with .5   \n",
       "5                                                        \n",
       "\n",
       "                  recordedBy  \n",
       "1  {1: ['max length is 17']}  \n",
       "2  {0: ['max length is 17']}  \n",
       "3                             \n",
       "4                             \n",
       "5                             "
      ]
     },
     "execution_count": 14,
     "metadata": {},
     "output_type": "execute_result"
    }
   ],
   "source": [
    "my_errors = validate_my_dataset.export_table()\n",
    "my_errors[my_errors.isnull()] = ''\n",
    "my_errors[[\"occurrenceID\", \"basisOfRecord\", \"eventDate\", \n",
    "           \"decimalLatitude\", \"decimalLongitude\", \"recordedBy\"]]"
   ]
  },
  {
   "cell_type": "markdown",
   "metadata": {
    "slideshow": {
     "slide_type": "slide"
    }
   },
   "source": [
    "# After correction..."
   ]
  },
  {
   "cell_type": "code",
   "execution_count": 9,
   "metadata": {
    "collapsed": false,
    "run_control": {
     "frozen": false,
     "read_only": false
    },
    "slideshow": {
     "slide_type": "skip"
    }
   },
   "outputs": [],
   "source": [
    "vlinders_subset = pd.read_csv('./example_corrected_presentation.tsv', sep='\\t')"
   ]
  },
  {
   "cell_type": "code",
   "execution_count": 18,
   "metadata": {
    "collapsed": false,
    "run_control": {
     "frozen": false,
     "read_only": false
    },
    "slideshow": {
     "slide_type": "subslide"
    }
   },
   "outputs": [
    {
     "data": {
      "text/html": [
       "<div>\n",
       "<table border=\"1\" class=\"dataframe\">\n",
       "  <thead>\n",
       "    <tr style=\"text-align: right;\">\n",
       "      <th></th>\n",
       "      <th>occurrenceID</th>\n",
       "      <th>basisOfRecord</th>\n",
       "      <th>eventDate</th>\n",
       "      <th>decimalLatitude</th>\n",
       "      <th>decimalLongitude</th>\n",
       "      <th>recordedBy</th>\n",
       "    </tr>\n",
       "  </thead>\n",
       "  <tbody>\n",
       "    <tr>\n",
       "      <th>0</th>\n",
       "      <td>INBO:VLINDERS:00000637</td>\n",
       "      <td>HumanObservation</td>\n",
       "      <td>1984-07-24</td>\n",
       "      <td>51.15889</td>\n",
       "      <td>3.10725</td>\n",
       "      <td>observerID:JNHRLP | observerID:JNHRLC</td>\n",
       "    </tr>\n",
       "    <tr>\n",
       "      <th>1</th>\n",
       "      <td>INBO:VLINDERS:00000651</td>\n",
       "      <td>HumanObservation</td>\n",
       "      <td>1981-07-24</td>\n",
       "      <td>51.02361</td>\n",
       "      <td>3.32081</td>\n",
       "      <td>observerID:JNHRLP | observerID:JNHRLC</td>\n",
       "    </tr>\n",
       "    <tr>\n",
       "      <th>2</th>\n",
       "      <td>INBO:VLINDERS:00000717</td>\n",
       "      <td>HumanObservation</td>\n",
       "      <td>1985-04-19</td>\n",
       "      <td>50.88093</td>\n",
       "      <td>4.38597</td>\n",
       "      <td>observerID:JNHRLP | observerID:JNHRLC</td>\n",
       "    </tr>\n",
       "    <tr>\n",
       "      <th>3</th>\n",
       "      <td>INBO:VLINDERS:00000786</td>\n",
       "      <td>HumanObservation</td>\n",
       "      <td>1985-09-12</td>\n",
       "      <td>51.11000</td>\n",
       "      <td>3.96424</td>\n",
       "      <td>observerID:DRCKPL</td>\n",
       "    </tr>\n",
       "    <tr>\n",
       "      <th>4</th>\n",
       "      <td>INBO:VLINDERS:00001041</td>\n",
       "      <td>HumanObservation</td>\n",
       "      <td>1987-04-15</td>\n",
       "      <td>51.05594</td>\n",
       "      <td>4.74792</td>\n",
       "      <td>observerID:925</td>\n",
       "    </tr>\n",
       "  </tbody>\n",
       "</table>\n",
       "</div>"
      ],
      "text/plain": [
       "             occurrenceID     basisOfRecord   eventDate  decimalLatitude  \\\n",
       "0  INBO:VLINDERS:00000637  HumanObservation  1984-07-24         51.15889   \n",
       "1  INBO:VLINDERS:00000651  HumanObservation  1981-07-24         51.02361   \n",
       "2  INBO:VLINDERS:00000717  HumanObservation  1985-04-19         50.88093   \n",
       "3  INBO:VLINDERS:00000786  HumanObservation  1985-09-12         51.11000   \n",
       "4  INBO:VLINDERS:00001041  HumanObservation  1987-04-15         51.05594   \n",
       "\n",
       "   decimalLongitude                             recordedBy  \n",
       "0           3.10725  observerID:JNHRLP | observerID:JNHRLC  \n",
       "1           3.32081  observerID:JNHRLP | observerID:JNHRLC  \n",
       "2           4.38597  observerID:JNHRLP | observerID:JNHRLC  \n",
       "3           3.96424                      observerID:DRCKPL  \n",
       "4           4.74792                         observerID:925  "
      ]
     },
     "execution_count": 18,
     "metadata": {},
     "output_type": "execute_result"
    }
   ],
   "source": [
    "vlinders_subset[[\"occurrenceID\", \"basisOfRecord\", \"eventDate\", \n",
    "                 \"decimalLatitude\", \"decimalLongitude\", \"recordedBy\"]]"
   ]
  },
  {
   "cell_type": "code",
   "execution_count": 11,
   "metadata": {
    "collapsed": false,
    "run_control": {
     "frozen": false,
     "read_only": false
    },
    "slideshow": {
     "slide_type": "slide"
    }
   },
   "outputs": [
    {
     "name": "stdout",
     "output_type": "stream",
     "text": [
      "Hooray, your data set is according to the guidelines!\n"
     ]
    }
   ],
   "source": [
    "vlinders = DwcaScreening('./dwc-occurrence.yaml', \n",
    "                         lowercase_terms=False, unknown_fields=True)\n",
    "vlinders.screen_dwc('./example_corrected_presentation.tsv',\n",
    "                    delimiter='\\t', maxentries=50)"
   ]
  }
 ],
 "metadata": {
  "celltoolbar": "Slideshow",
  "kernelspec": {
   "display_name": "Python 3",
   "language": "python",
   "name": "python3"
  },
  "language_info": {
   "codemirror_mode": {
    "name": "ipython",
    "version": 3
   },
   "file_extension": ".py",
   "mimetype": "text/x-python",
   "name": "python",
   "nbconvert_exporter": "python",
   "pygments_lexer": "ipython3",
   "version": "3.5.2"
  },
  "nav_menu": {},
  "toc": {
   "navigate_menu": true,
   "number_sections": true,
   "sideBar": true,
   "threshold": 6,
   "toc_cell": false,
   "toc_section_display": "block",
   "toc_window_display": false
  }
 },
 "nbformat": 4,
 "nbformat_minor": 0
}
